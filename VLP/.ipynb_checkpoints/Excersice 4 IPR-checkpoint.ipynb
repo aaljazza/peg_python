{
 "cells": [
  {
   "cell_type": "markdown",
   "metadata": {},
   "source": [
    "# Inflow Performance Relationship (IPR)"
   ]
  },
  {
   "cell_type": "markdown",
   "metadata": {},
   "source": [
    "## Darcy's Method"
   ]
  },
  {
   "cell_type": "code",
   "execution_count": 47,
   "metadata": {},
   "outputs": [],
   "source": [
    "import Libraries.Vogel as IPR\n",
    "import Libraries.FluidProps as FluidProps\n",
    "import matplotlib.pyplot as plt"
   ]
  },
  {
   "cell_type": "markdown",
   "metadata": {},
   "source": [
    "Input data"
   ]
  },
  {
   "cell_type": "code",
   "execution_count": 48,
   "metadata": {},
   "outputs": [],
   "source": [
    "Pressure=3000.0\n",
    "Thickness=75.0\n",
    "k= 50\n",
    "visc = 0.5\n",
    "GasGrav=0.65\n",
    "API= 28.0\n",
    "GOR= 375.0\n",
    "Temp=150.0\n",
    "rw=0.328\n",
    "re=1053.0\n",
    "s=-1.5\n",
    "OilFVF = 1.2"
   ]
  },
  {
   "cell_type": "code",
   "execution_count": 49,
   "metadata": {},
   "outputs": [
    {
     "data": {
      "text/plain": [
       "2370.202357201929"
      ]
     },
     "execution_count": 49,
     "metadata": {},
     "output_type": "execute_result"
    }
   ],
   "source": [
    "Psat = FluidProps.Pbub(Temp,75,100,GasGrav, API, GOR)\n",
    "Psat"
   ]
  },
  {
   "cell_type": "code",
   "execution_count": 50,
   "metadata": {},
   "outputs": [],
   "source": [
    "# def Darcy_IPR(k,h,visc, re,rw, s, P, OilFVF, nPoints):\n",
    "\n",
    "nPoints= 200\n",
    "IPR= IPR.Darcy_IPR(k,Thickness,visc, re,rw, s, Pressure, OilFVF, nPoints)"
   ]
  },
  {
   "cell_type": "code",
   "execution_count": 51,
   "metadata": {},
   "outputs": [
    {
     "data": {
      "image/png": "[encoded data removed]",
      "text/plain": [
       "<Figure size 432x288 with 1 Axes>"
      ]
     },
     "metadata": {
      "needs_background": "light"
     },
     "output_type": "display_data"
    }
   ],
   "source": [
    "scatter =plt.scatter(IPR[1], IPR[0])\n",
    "plt.xlabel('Rate')\n",
    "plt.ylabel('Pressure')\n",
    "plt.show()"
   ]
  },
  {
   "cell_type": "markdown",
   "metadata": {},
   "source": [
    "# Vogel's Method"
   ]
  },
  {
   "cell_type": "code",
   "execution_count": 52,
   "metadata": {},
   "outputs": [
    {
     "ename": "AttributeError",
     "evalue": "'list' object has no attribute 'VogelIPR'",
     "output_type": "error",
     "traceback": [
      "\u001b[1;31m---------------------------------------------------------------------------\u001b[0m",
      "\u001b[1;31mAttributeError\u001b[0m                            Traceback (most recent call last)",
      "\u001b[1;32m<ipython-input-52-a13bd51fb174>\u001b[0m in \u001b[0;36m<module>\u001b[1;34m\u001b[0m\n\u001b[0;32m      7\u001b[0m \u001b[0mnPoints\u001b[0m \u001b[1;33m=\u001b[0m \u001b[1;36m50\u001b[0m\u001b[1;33m\u001b[0m\u001b[1;33m\u001b[0m\u001b[0m\n\u001b[0;32m      8\u001b[0m \u001b[1;33m\u001b[0m\u001b[0m\n\u001b[1;32m----> 9\u001b[1;33m \u001b[0mIPR_vogel\u001b[0m\u001b[1;33m=\u001b[0m \u001b[0mIPR\u001b[0m\u001b[1;33m.\u001b[0m\u001b[0mVogelIPR\u001b[0m\u001b[1;33m(\u001b[0m\u001b[0mP\u001b[0m\u001b[1;33m,\u001b[0m \u001b[0mPb\u001b[0m\u001b[1;33m,\u001b[0m \u001b[0mPwf\u001b[0m\u001b[1;33m,\u001b[0m \u001b[0mQo\u001b[0m\u001b[1;33m,\u001b[0m \u001b[0mnPoints\u001b[0m\u001b[1;33m)\u001b[0m\u001b[1;33m\u001b[0m\u001b[1;33m\u001b[0m\u001b[0m\n\u001b[0m",
      "\u001b[1;31mAttributeError\u001b[0m: 'list' object has no attribute 'VogelIPR'"
     ]
    }
   ],
   "source": [
    "#def VogelIPR(P, Pb, Pwf, Qo, nPoints):\n",
    "\n",
    "Qo = 500\n",
    "Pb =2370\n",
    "P = 2370\n",
    "Pwf = 2000\n",
    "nPoints = 50\n",
    "\n",
    "IPR_vogel= IPR.VogelIPR(P, Pb, Pwf, Qo, nPoints)"
   ]
  },
  {
   "cell_type": "code",
   "execution_count": null,
   "metadata": {},
   "outputs": [],
   "source": []
  }
 ],
 "metadata": {
  "kernelspec": {
   "display_name": "Python 3",
   "language": "python",
   "name": "python3"
  },
  "language_info": {
   "codemirror_mode": {
    "name": "ipython",
    "version": 3
   },
   "file_extension": ".py",
   "mimetype": "text/x-python",
   "name": "python",
   "nbconvert_exporter": "python",
   "pygments_lexer": "ipython3",
   "version": "3.7.6"
  }
 },
 "nbformat": 4,
 "nbformat_minor": 4
}
