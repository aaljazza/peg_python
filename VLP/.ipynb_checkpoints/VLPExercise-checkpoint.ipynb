{
 "cells": [
  {
   "cell_type": "markdown",
   "metadata": {},
   "source": [
    "# Bottomhole Flowing Pressure Calculation - Revised Beggs and Brill Correlation"
   ]
  },
  {
   "cell_type": "markdown",
   "metadata": {},
   "source": [
    "Importing Libraries"
   ]
  },
  {
   "cell_type": "code",
   "execution_count": 1,
   "metadata": {},
   "outputs": [],
   "source": [
    "import numpy as np\n",
    "import pandas as pd\n",
    "import math\n",
    "import Libraries.FluidProps\n",
    "import Libraries.BeggsandBrill as BB"
   ]
  },
  {
   "cell_type": "markdown",
   "metadata": {},
   "source": [
    "Input Data"
   ]
  },
  {
   "cell_type": "code",
   "execution_count": 11,
   "metadata": {},
   "outputs": [
    {
     "data": {
      "text/plain": [
       "0.01"
      ]
     },
     "execution_count": 11,
     "metadata": {},
     "output_type": "execute_result"
    }
   ],
   "source": [
    "oil_rate= 100\n",
    "water_rate = 50\n",
    "gor = 300\n",
    "gas_grav = 0.65\n",
    "oil_grav = 35\n",
    "wtr_grav = 1.07\n",
    "diameter=2.441\n",
    "angle=90.0\n",
    "thp= 150.0\n",
    "tht=100.0\n",
    "twf=150.0\n",
    "depth = 5000\n",
    "sample_size =51\n",
    "\n",
    "def temp_gradient(t0,t1, depth):\n",
    "    if depth==0:\n",
    "        return 0\n",
    "    else:\n",
    "        return abs(t0-t1)/depth    \n",
    "\n",
    "t_grad = temp_gradient(tht,twf, depth)\n",
    "t_grad"
   ]
  },
  {
   "cell_type": "code",
   "execution_count": 3,
   "metadata": {},
   "outputs": [],
   "source": [
    "depths = np.linspace(0, depth, sample_size)"
   ]
  },
  {
   "cell_type": "code",
   "execution_count": 4,
   "metadata": {},
   "outputs": [
    {
     "data": {
      "text/plain": [
       "array([   0.,  100.,  200.,  300.,  400.,  500.,  600.,  700.,  800.,\n",
       "        900., 1000., 1100., 1200., 1300., 1400., 1500., 1600., 1700.,\n",
       "       1800., 1900., 2000., 2100., 2200., 2300., 2400., 2500., 2600.,\n",
       "       2700., 2800., 2900., 3000., 3100., 3200., 3300., 3400., 3500.,\n",
       "       3600., 3700., 3800., 3900., 4000., 4100., 4200., 4300., 4400.,\n",
       "       4500., 4600., 4700., 4800., 4900., 5000.])"
      ]
     },
     "execution_count": 4,
     "metadata": {},
     "output_type": "execute_result"
    }
   ],
   "source": [
    "depths"
   ]
  },
  {
   "cell_type": "code",
   "execution_count": 5,
   "metadata": {},
   "outputs": [
    {
     "data": {
      "text/plain": [
       "51"
      ]
     },
     "execution_count": 5,
     "metadata": {},
     "output_type": "execute_result"
    }
   ],
   "source": [
    "len(depths)"
   ]
  },
  {
   "cell_type": "code",
   "execution_count": 6,
   "metadata": {},
   "outputs": [],
   "source": [
    "temps = tht + t_grad * depths"
   ]
  },
  {
   "cell_type": "code",
   "execution_count": 7,
   "metadata": {},
   "outputs": [
    {
     "data": {
      "text/plain": [
       "array([100., 101., 102., 103., 104., 105., 106., 107., 108., 109., 110.,\n",
       "       111., 112., 113., 114., 115., 116., 117., 118., 119., 120., 121.,\n",
       "       122., 123., 124., 125., 126., 127., 128., 129., 130., 131., 132.,\n",
       "       133., 134., 135., 136., 137., 138., 139., 140., 141., 142., 143.,\n",
       "       144., 145., 146., 147., 148., 149., 150.])"
      ]
     },
     "execution_count": 7,
     "metadata": {},
     "output_type": "execute_result"
    }
   ],
   "source": [
    "temps"
   ]
  },
  {
   "cell_type": "code",
   "execution_count": 14,
   "metadata": {},
   "outputs": [
    {
     "data": {
      "text/plain": [
       "[0.2574636513351736,\n",
       " 0.27690145740949645,\n",
       " 0.29515105767769056,\n",
       " 0.31217692778453243,\n",
       " 0.3279765241154102,\n",
       " 0.3425715983788796,\n",
       " 0.35600101959268243,\n",
       " 0.3683150725129355,\n",
       " 0.3795710739956489,\n",
       " 0.3898300974288978,\n",
       " 0.3991545900057391,\n",
       " 0.40760668663136307,\n",
       " 0.41524705363523245,\n",
       " 0.42213412689625135,\n",
       " 0.42832363813214475,\n",
       " 0.43386834807493857,\n",
       " 0.43881792560031246,\n",
       " 0.4432189278838517,\n",
       " 0.44711484892406955,\n",
       " 0.4505462129854225,\n",
       " 0.4536063026739167,\n",
       " 0.4567348920972586,\n",
       " 0.45947395908661337,\n",
       " 0.46185451968430286,\n",
       " 0.463905478065251,\n",
       " 0.4656537201982787,\n",
       " 0.4671242136263271,\n",
       " 0.468340110315449,\n",
       " 0.4693228503105781,\n",
       " 0.4700922645289233,\n",
       " 0.470666675469571,\n",
       " 0.4710629949577391,\n",
       " 0.47129681830152514,\n",
       " 0.47138251443807194,\n",
       " 0.4713333117995577,\n",
       " 0.4713830642715783,\n",
       " 0.47128198866224097,\n",
       " 0.4711615478420003,\n",
       " 0.47102367678778295,\n",
       " 0.47087012430192293,\n",
       " 0.4707024743898812,\n",
       " 0.47052216458358276,\n",
       " 0.4703305017195641,\n",
       " 0.47012867558765076,\n",
       " 0.46991777079096914,\n",
       " 0.46969877709777846,\n",
       " 0.4694725985167936,\n",
       " 0.4692400612880073,\n",
       " 0.4690019209486445,\n",
       " 0.46875886860739685,\n",
       " 0.46851153653827043]"
      ]
     },
     "execution_count": 14,
     "metadata": {},
     "output_type": "execute_result"
    }
   ],
   "source": [
    "#def Pgrad(P, T, oil_rate, wtr_rate, Gor, gas_grav, oil_grav, wtr_grav, d, angle):\n",
    "\n",
    "p=[]\n",
    "dpdz=[]\n",
    "\n",
    "for i in range(len(depths)):\n",
    "   \n",
    "    if i==0:\n",
    "        p.append(thp)\n",
    "    else:\n",
    "        dz = (depths[i]-depths[i-1])\n",
    "        pressure = p[i-1]+dz*dpdz[i-1]\n",
    "        p.append(pressure)\n",
    "    \n",
    "    dpdz_step = BB.Pgrad(p[i], temps[i], oil_rate, water_rate, gor, gas_grav, oil_grav, wtr_grav, diameter, angle) \n",
    "    dpdz.append(dpdz_step)\n",
    "\n",
    "dpdz    "
   ]
  },
  {
   "cell_type": "code",
   "execution_count": null,
   "metadata": {},
   "outputs": [],
   "source": []
  },
  {
   "cell_type": "code",
   "execution_count": 9,
   "metadata": {},
   "outputs": [
    {
     "name": "stdout",
     "output_type": "stream",
     "text": [
      "0.25700139241295233\n"
     ]
    }
   ],
   "source": []
  },
  {
   "cell_type": "code",
   "execution_count": null,
   "metadata": {},
   "outputs": [],
   "source": []
  }
 ],
 "metadata": {
  "kernelspec": {
   "display_name": "Python 3",
   "language": "python",
   "name": "python3"
  },
  "language_info": {
   "codemirror_mode": {
    "name": "ipython",
    "version": 3
   },
   "file_extension": ".py",
   "mimetype": "text/x-python",
   "name": "python",
   "nbconvert_exporter": "python",
   "pygments_lexer": "ipython3",
   "version": "3.7.6"
  }
 },
 "nbformat": 4,
 "nbformat_minor": 4
}
