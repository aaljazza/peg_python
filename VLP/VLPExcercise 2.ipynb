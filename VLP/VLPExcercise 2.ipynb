{
 "cells": [
  {
   "cell_type": "markdown",
   "metadata": {},
   "source": [
    "# Virtual Metering using Beggs and Brill"
   ]
  },
  {
   "cell_type": "markdown",
   "metadata": {},
   "source": [
    "Importing Libraries"
   ]
  },
  {
   "cell_type": "code",
   "execution_count": 57,
   "metadata": {},
   "outputs": [],
   "source": [
    "import numpy as np\n",
    "import pandas as pd\n",
    "from scipy.optimize import fsolve\n",
    "import math\n",
    "import matplotlib.pyplot as plt\n",
    "import Libraries.FluidProps\n",
    "import Libraries.BeggsandBrill as BB"
   ]
  },
  {
   "cell_type": "markdown",
   "metadata": {},
   "source": [
    "Input Data"
   ]
  },
  {
   "cell_type": "code",
   "execution_count": 42,
   "metadata": {},
   "outputs": [],
   "source": [
    "oil_rate= 100\n",
    "water_rate = 50\n",
    "gor = 300\n",
    "gas_grav = 0.65\n",
    "oil_grav = 35\n",
    "wtr_grav = 1.07\n",
    "diameter=2.441\n",
    "angle=90.0\n",
    "thp= 150.0\n",
    "tht=100.0\n",
    "twf=150.0\n",
    "depth = 5000\n",
    "sample_size =51\n",
    "\n",
    "def temp_gradient(t0,t1, depth):\n",
    "    if depth==0:\n",
    "        return 0\n",
    "    else:\n",
    "        return abs(t0-t1)/depth    \n",
    "\n",
    "t_grad = temp_gradient(tht,twf, depth)\n"
   ]
  },
  {
   "cell_type": "code",
   "execution_count": 43,
   "metadata": {},
   "outputs": [],
   "source": [
    "depths = np.linspace(0, depth, sample_size)"
   ]
  },
  {
   "cell_type": "code",
   "execution_count": 44,
   "metadata": {},
   "outputs": [],
   "source": [
    "temps = tht + t_grad * depths"
   ]
  },
  {
   "cell_type": "code",
   "execution_count": 46,
   "metadata": {},
   "outputs": [],
   "source": [
    "def pressure_traverse(oil_rate, water_rate):\n",
    "    p=[]\n",
    "    dpdz=[]\n",
    "    for i in range(len(depths)):\n",
    "\n",
    "        if i==0:\n",
    "            p.append(thp)\n",
    "        else:\n",
    "            dz = (depths[i]-depths[i-1])\n",
    "            pressure = p[i-1]+dz*dpdz[i-1]\n",
    "            p.append(pressure)\n",
    "\n",
    "        dpdz_step = BB.Pgrad(p[i], temps[i], oil_rate, water_rate, gor, gas_grav, oil_grav, wtr_grav, diameter, angle) \n",
    "        dpdz.append(dpdz_step)\n",
    "        \n",
    "    return p, dpdz\n"
   ]
  },
  {
   "cell_type": "markdown",
   "metadata": {},
   "source": [
    "Let's assume that Pressures, GOR and wC are known and we need to estimate the rate"
   ]
  },
  {
   "cell_type": "code",
   "execution_count": 55,
   "metadata": {},
   "outputs": [],
   "source": [
    "qo_guess = 10000\n",
    "water_cut = 0.333333\n",
    "gor = 300\n",
    "gas_grav = 0.65\n",
    "oil_grav = 35\n",
    "wtr_grav = 1.07\n",
    "diameter=2.441\n",
    "angle=90.0\n",
    "thp= 150.0\n",
    "tht=100.0\n",
    "twf=150.0\n",
    "depth = 5000\n",
    "sample_size =51\n",
    "bhp = 2313.8\n",
    "\n",
    "def objective_fn(q_guess, *data):\n",
    "    \n",
    "    bhp_obs = data[0]\n",
    "    water_rate = water_cut*q_guess/(1-water_cut)\n",
    "    p,dpdz = pressure_traverse(q_guess, water_rate)\n",
    "    bhp_calc=p[-1]\n",
    "    d = (bhp_obs-bhp_calc)\n",
    "    \n",
    "    return d\n",
    "    "
   ]
  },
  {
   "cell_type": "code",
   "execution_count": 56,
   "metadata": {},
   "outputs": [
    {
     "data": {
      "text/plain": [
       "3315.9778987517197"
      ]
     },
     "execution_count": 56,
     "metadata": {},
     "output_type": "execute_result"
    }
   ],
   "source": [
    "data = [bhp,]\n",
    "solution_rate = fsolve(objective_fn, qo_guess, args=data)\n",
    "solution_rate[0]"
   ]
  },
  {
   "cell_type": "code",
   "execution_count": null,
   "metadata": {},
   "outputs": [],
   "source": []
  }
 ],
 "metadata": {
  "kernelspec": {
   "display_name": "Python 3",
   "language": "python",
   "name": "python3"
  },
  "language_info": {
   "codemirror_mode": {
    "name": "ipython",
    "version": 3
   },
   "file_extension": ".py",
   "mimetype": "text/x-python",
   "name": "python",
   "nbconvert_exporter": "python",
   "pygments_lexer": "ipython3",
   "version": "3.7.6"
  }
 },
 "nbformat": 4,
 "nbformat_minor": 4
}
